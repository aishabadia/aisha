{
  "nbformat": 4,
  "nbformat_minor": 0,
  "metadata": {
    "colab": {
      "provenance": [],
      "authorship_tag": "ABX9TyM6eTt3hPY3wt8lUVNt1ZuB",
      "include_colab_link": true
    },
    "kernelspec": {
      "name": "python3",
      "display_name": "Python 3"
    },
    "language_info": {
      "name": "python"
    }
  },
  "cells": [
    {
      "cell_type": "markdown",
      "metadata": {
        "id": "view-in-github",
        "colab_type": "text"
      },
      "source": [
        "<a href=\"https://colab.research.google.com/github/aishabadia/aisha/blob/main/S2_Task4.ipynb\" target=\"_parent\"><img src=\"https://colab.research.google.com/assets/colab-badge.svg\" alt=\"Open In Colab\"/></a>"
      ]
    },
    {
      "cell_type": "code",
      "execution_count": null,
      "metadata": {
        "colab": {
          "base_uri": "https://localhost:8080/"
        },
        "id": "W8pBW7mcAiiK",
        "outputId": "cf57dcf9-a67a-4c84-c8de-3423609466d8"
      },
      "outputs": [
        {
          "output_type": "stream",
          "name": "stdout",
          "text": [
            "Enter your age :65\n",
            " Are you a student yes or no:y\n",
            " Enter size of group  :5\n",
            "the Student discount 10% off\n",
            "seniors (+65) gets 30% off.\n",
            "the group size is 5 or more gets 15% off.\n",
            "the ticket after discount ::  5.3549999999999995\n"
          ]
        }
      ],
      "source": [
        "base_ticket=10\n",
        "final_ticket=base_ticket\n",
        "age=int(input(\"Enter your age :\"))\n",
        "student=input(\" Are you a student yes or no:\")\n",
        "group=int(input(\" Enter size of group  :\"))\n",
        "\n",
        "if student==\"yes\" or student==\"y\":\n",
        "   final_ticket=final_ticket*0.9\n",
        "   print(\"the Student discount 10% off\")\n",
        "\n",
        "if age<12:\n",
        "    final_ticket=final_ticket*0.5\n",
        "    print(\"Children (under 12) gets 50% off.\")\n",
        "   # print(\"the ticket after discount\",final_ticket)\n",
        "elif age >=65:\n",
        "    final_ticket=final_ticket*0.7\n",
        "    print(\"seniors (+65) gets 30% off.\")\n",
        "   # print(\"the ticket after discount\",final_ticket)\n",
        "\n",
        "\n",
        "if group>=5:\n",
        "  final_ticket=final_ticket*0.85\n",
        "  print(\"the group size is 5 or more gets 15% off.\")\n",
        "\n",
        "print(\"the ticket after discount :: \",final_ticket)\n",
        "\n"
      ]
    }
  ]
}