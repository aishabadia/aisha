{
  "nbformat": 4,
  "nbformat_minor": 0,
  "metadata": {
    "colab": {
      "provenance": [],
      "authorship_tag": "ABX9TyOIGXGk6ecjMyQ4AJap2hOu",
      "include_colab_link": true
    },
    "kernelspec": {
      "name": "python3",
      "display_name": "Python 3"
    },
    "language_info": {
      "name": "python"
    }
  },
  "cells": [
    {
      "cell_type": "markdown",
      "metadata": {
        "id": "view-in-github",
        "colab_type": "text"
      },
      "source": [
        "<a href=\"https://colab.research.google.com/github/aishabadia/aisha/blob/main/S2_Task_1.ipynb\" target=\"_parent\"><img src=\"https://colab.research.google.com/assets/colab-badge.svg\" alt=\"Open In Colab\"/></a>"
      ]
    },
    {
      "cell_type": "code",
      "execution_count": null,
      "metadata": {
        "colab": {
          "base_uri": "https://localhost:8080/"
        },
        "id": "jLph9duKgRwz",
        "outputId": "abe62df3-12ce-4590-de38-1b767e02c8fb"
      },
      "outputs": [
        {
          "output_type": "stream",
          "name": "stdout",
          "text": [
            "Enter number  positive, negative, or zero :0\n",
            "number is zero\n"
          ]
        }
      ],
      "source": [
        "num=int(input(\"Enter number  positive, negative, or zero :\"))\n",
        "if num>0:\n",
        "  print(\"number is positive\")\n",
        "elif num <0 :\n",
        "  print(\"number is negative\")\n",
        "else:\n",
        "   print(\"number is zero\")"
      ]
    }
  ]
}