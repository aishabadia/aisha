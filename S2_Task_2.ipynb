{
  "nbformat": 4,
  "nbformat_minor": 0,
  "metadata": {
    "colab": {
      "provenance": [],
      "authorship_tag": "ABX9TyMyOixfCzb4rjN/eWBPWLSE",
      "include_colab_link": true
    },
    "kernelspec": {
      "name": "python3",
      "display_name": "Python 3"
    },
    "language_info": {
      "name": "python"
    }
  },
  "cells": [
    {
      "cell_type": "markdown",
      "metadata": {
        "id": "view-in-github",
        "colab_type": "text"
      },
      "source": [
        "<a href=\"https://colab.research.google.com/github/aishabadia/aisha/blob/main/S2_Task_2.ipynb\" target=\"_parent\"><img src=\"https://colab.research.google.com/assets/colab-badge.svg\" alt=\"Open In Colab\"/></a>"
      ]
    },
    {
      "cell_type": "code",
      "execution_count": null,
      "metadata": {
        "colab": {
          "base_uri": "https://localhost:8080/"
        },
        "id": "LF1prx05hZUx",
        "outputId": "72f5ec78-0d7b-4b29-9dce-8ab98c5c91a8"
      },
      "outputs": [
        {
          "output_type": "stream",
          "name": "stdout",
          "text": [
            "Enter your age :13\n",
            "Enter your height :141\n",
            "Can ride\n"
          ]
        }
      ],
      "source": [
        "age=int(input(\"Enter your age :\"))\n",
        "height=int(input(\"Enter your height :\"))\n",
        "if age>=12 and height>140 :\n",
        "    print (\"Can ride\")\n",
        "else:\n",
        "     print (\"Can not ride\")"
      ]
    }
  ]
}