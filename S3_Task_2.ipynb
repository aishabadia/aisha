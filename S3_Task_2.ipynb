{
  "nbformat": 4,
  "nbformat_minor": 0,
  "metadata": {
    "colab": {
      "provenance": [],
      "authorship_tag": "ABX9TyNld3jyqYnSD0Z7CSBbMvAH",
      "include_colab_link": true
    },
    "kernelspec": {
      "name": "python3",
      "display_name": "Python 3"
    },
    "language_info": {
      "name": "python"
    }
  },
  "cells": [
    {
      "cell_type": "markdown",
      "metadata": {
        "id": "view-in-github",
        "colab_type": "text"
      },
      "source": [
        "<a href=\"https://colab.research.google.com/github/aishabadia/aisha/blob/main/S3_Task_2.ipynb\" target=\"_parent\"><img src=\"https://colab.research.google.com/assets/colab-badge.svg\" alt=\"Open In Colab\"/></a>"
      ]
    },
    {
      "cell_type": "code",
      "execution_count": null,
      "metadata": {
        "colab": {
          "base_uri": "https://localhost:8080/"
        },
        "id": "qgy7NPQhkutM",
        "outputId": "bfa59431-218a-4a2a-c94c-6ae888ac1fa6"
      },
      "outputs": [
        {
          "output_type": "stream",
          "name": "stdout",
          "text": [
            "Enter your password :11\n",
            "Wrong  2  attempt left\n",
            "Enter your password :123\n",
            "Access granted!\n"
          ]
        }
      ],
      "source": [
        "password=\"123\"\n",
        "usr_paswd=input(\"Enter your password :\")\n",
        "count=2\n",
        "\n",
        "for i in range(count,0,-1):\n",
        "   if usr_paswd!=password:\n",
        "      print(\"Wrong \",i, \" attempt left\")\n",
        "      usr_paswd=input(\"Enter your password :\")\n",
        "   else:\n",
        "      print(\"Access granted!\")\n",
        "      break\n"
      ]
    }
  ]
}