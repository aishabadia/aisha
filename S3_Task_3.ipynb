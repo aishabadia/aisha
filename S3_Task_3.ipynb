{
  "nbformat": 4,
  "nbformat_minor": 0,
  "metadata": {
    "colab": {
      "provenance": [],
      "authorship_tag": "ABX9TyPlI592JBJDj9VThYKQ5Vgk",
      "include_colab_link": true
    },
    "kernelspec": {
      "name": "python3",
      "display_name": "Python 3"
    },
    "language_info": {
      "name": "python"
    }
  },
  "cells": [
    {
      "cell_type": "markdown",
      "metadata": {
        "id": "view-in-github",
        "colab_type": "text"
      },
      "source": [
        "<a href=\"https://colab.research.google.com/github/aishabadia/aisha/blob/main/S3_Task_3.ipynb\" target=\"_parent\"><img src=\"https://colab.research.google.com/assets/colab-badge.svg\" alt=\"Open In Colab\"/></a>"
      ]
    },
    {
      "cell_type": "code",
      "execution_count": null,
      "metadata": {
        "colab": {
          "base_uri": "https://localhost:8080/"
        },
        "outputId": "24c04ab4-c5c9-4941-816e-b5f0d76d2b35",
        "id": "MCKRgxqzr_Ka"
      },
      "outputs": [
        {
          "output_type": "stream",
          "name": "stdout",
          "text": [
            "Enter number of rows4\n",
            "## \n",
            "7 7 \n",
            "## ## ## \n",
            "5 5 5 5 \n"
          ]
        }
      ],
      "source": [
        "rows=int(input(\"Enter number of rows\"))\n",
        "start = 8\n",
        "for i in range(rows):\n",
        "   for j in range(i + 1):\n",
        "     if start%2>0 :\n",
        "      print(start, end=\" \")\n",
        "     else :\n",
        "      print(\"##\", end=\" \")\n",
        "   start -= 1\n",
        "   print(\"\")"
      ]
    }
  ]
}