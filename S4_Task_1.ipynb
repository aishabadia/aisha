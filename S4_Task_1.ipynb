{
  "nbformat": 4,
  "nbformat_minor": 0,
  "metadata": {
    "colab": {
      "provenance": [],
      "authorship_tag": "ABX9TyNDdTHFWl7Ck7Hz79mOgykr",
      "include_colab_link": true
    },
    "kernelspec": {
      "name": "python3",
      "display_name": "Python 3"
    },
    "language_info": {
      "name": "python"
    }
  },
  "cells": [
    {
      "cell_type": "markdown",
      "metadata": {
        "id": "view-in-github",
        "colab_type": "text"
      },
      "source": [
        "<a href=\"https://colab.research.google.com/github/aishabadia/aisha/blob/main/S4_Task_1.ipynb\" target=\"_parent\"><img src=\"https://colab.research.google.com/assets/colab-badge.svg\" alt=\"Open In Colab\"/></a>"
      ]
    },
    {
      "cell_type": "code",
      "execution_count": null,
      "metadata": {
        "colab": {
          "base_uri": "https://localhost:8080/"
        },
        "collapsed": true,
        "id": "bq0Y5LxxfHY9",
        "outputId": "3e954634-1b9a-4d75-c173-7604de0d1652"
      },
      "outputs": [
        {
          "output_type": "stream",
          "name": "stdout",
          "text": [
            " Enter number :3\n",
            "odd\n",
            " Enter number :4\n",
            "even\n",
            " Enter number :0\n",
            "exit loop\n"
          ]
        }
      ],
      "source": [
        "number=int(input(\" Enter number :\"))\n",
        "if number==0:\n",
        "  print(\"exit program\")\n",
        "else :\n",
        "  while  number!=0 :\n",
        "   if number%2==0:\n",
        "    print(\"even\")\n",
        "   else:\n",
        "    print(\"odd\")\n",
        "   number=int(input(\" Enter number :\"))\n",
        "print(\"exit loop\")"
      ]
    }
  ]
}