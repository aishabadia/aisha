{
  "nbformat": 4,
  "nbformat_minor": 0,
  "metadata": {
    "colab": {
      "provenance": [],
      "authorship_tag": "ABX9TyOR/FmVFza1ppoIhXTrLo0P",
      "include_colab_link": true
    },
    "kernelspec": {
      "name": "python3",
      "display_name": "Python 3"
    },
    "language_info": {
      "name": "python"
    }
  },
  "cells": [
    {
      "cell_type": "markdown",
      "metadata": {
        "id": "view-in-github",
        "colab_type": "text"
      },
      "source": [
        "<a href=\"https://colab.research.google.com/github/aishabadia/aisha/blob/main/S4_Task_2.ipynb\" target=\"_parent\"><img src=\"https://colab.research.google.com/assets/colab-badge.svg\" alt=\"Open In Colab\"/></a>"
      ]
    },
    {
      "cell_type": "code",
      "execution_count": null,
      "metadata": {
        "colab": {
          "base_uri": "https://localhost:8080/"
        },
        "id": "8RFGLa09i3w4",
        "outputId": "2581ba9b-aa6f-4846-9d46-86a15c37b5f5"
      },
      "outputs": [
        {
          "output_type": "stream",
          "name": "stdout",
          "text": [
            "Enter numbers in list :5\n",
            "Enter numbers in list :3\n",
            "Enter numbers in list :7\n",
            "Enter numbers in list :8\n",
            "Enter numbers in list :1\n",
            "[8, 7, 5, 3]\n"
          ]
        }
      ],
      "source": [
        "num_list=[]\n",
        "num=0\n",
        "for i in range(5):\n",
        " num=int(input(\"Enter numbers in list :\"))\n",
        " num_list.append(num)\n",
        "small=min(num_list)\n",
        "num_list.remove(small)\n",
        "num_list.sort(reverse=True)\n",
        "print(num_list)"
      ]
    }
  ]
}