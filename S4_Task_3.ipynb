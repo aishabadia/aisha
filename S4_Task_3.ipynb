{
  "nbformat": 4,
  "nbformat_minor": 0,
  "metadata": {
    "colab": {
      "provenance": [],
      "authorship_tag": "ABX9TyP1rcFBsOrX8F/9STRRnK4D",
      "include_colab_link": true
    },
    "kernelspec": {
      "name": "python3",
      "display_name": "Python 3"
    },
    "language_info": {
      "name": "python"
    }
  },
  "cells": [
    {
      "cell_type": "markdown",
      "metadata": {
        "id": "view-in-github",
        "colab_type": "text"
      },
      "source": [
        "<a href=\"https://colab.research.google.com/github/aishabadia/aisha/blob/main/S4_Task_3.ipynb\" target=\"_parent\"><img src=\"https://colab.research.google.com/assets/colab-badge.svg\" alt=\"Open In Colab\"/></a>"
      ]
    },
    {
      "cell_type": "code",
      "execution_count": null,
      "metadata": {
        "colab": {
          "base_uri": "https://localhost:8080/"
        },
        "id": "RQEXrMPsqfMA",
        "outputId": "59dcb85a-b9ee-46cb-8f45-df23cc6b06c4"
      },
      "outputs": [
        {
          "output_type": "stream",
          "name": "stdout",
          "text": [
            "{'b', 'a', 'd', 'c'}\n",
            "{'b', 'c'}\n",
            "{'a': 1, 'b': 3, 'c': 4, 'd': 5}\n"
          ]
        }
      ],
      "source": [
        "dic1={\"a\":1,\"b\":2,\"c\":3}\n",
        "dic2={\"b\":3,\"c\":4,\"d\":5}\n",
        "set1=set()\n",
        "set2=set()\n",
        "for i in dic1.keys() :\n",
        " set1.add(i)\n",
        "for j in dic2.keys() :\n",
        "  set2.add(j)\n",
        "uset=set1.union(set2)\n",
        "inter_set=set1.intersection(set2)\n",
        "print(uset)\n",
        "print(inter_set)\n",
        "dic1.update(dic2)\n",
        "print(dic1)\n",
        "\n"
      ]
    }
  ]
}