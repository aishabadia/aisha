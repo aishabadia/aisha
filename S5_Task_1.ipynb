{
  "nbformat": 4,
  "nbformat_minor": 0,
  "metadata": {
    "colab": {
      "provenance": [],
      "authorship_tag": "ABX9TyPu6yaRsdwoujeg3NwYP33z",
      "include_colab_link": true
    },
    "kernelspec": {
      "name": "python3",
      "display_name": "Python 3"
    },
    "language_info": {
      "name": "python"
    }
  },
  "cells": [
    {
      "cell_type": "markdown",
      "metadata": {
        "id": "view-in-github",
        "colab_type": "text"
      },
      "source": [
        "<a href=\"https://colab.research.google.com/github/aishabadia/aisha/blob/main/S5_Task_1.ipynb\" target=\"_parent\"><img src=\"https://colab.research.google.com/assets/colab-badge.svg\" alt=\"Open In Colab\"/></a>"
      ]
    },
    {
      "cell_type": "code",
      "execution_count": null,
      "metadata": {
        "colab": {
          "base_uri": "https://localhost:8080/"
        },
        "id": "wOkSs4K084mw",
        "outputId": "7c1107fa-f624-480a-f69c-8c49ab30dda2"
      },
      "outputs": [
        {
          "output_type": "stream",
          "name": "stdout",
          "text": [
            "Name :Yara\n",
            "Age :25\n",
            "Hobbies :('Reading', 'Swimming')\n",
            "Attributes :{'city': 'Giza', 'job': 'Engineer'}\n"
          ]
        }
      ],
      "source": [
        "def  describe_person(name,age=20,*hobbies,**attributes):\n",
        "  print(f\"Name :{name}\")\n",
        "  print(f\"Age :{age}\")\n",
        "  print(f\"Hobbies :{hobbies}\")\n",
        "  print(f\"Attributes :{attributes}\")\n",
        "\n",
        "describe_person(\"Yara\",25,\"Reading\",\"Swimming\",city=\"Giza\",job=\"Engineer\")"
      ]
    }
  ]
}