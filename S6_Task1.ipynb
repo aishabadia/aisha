{
  "nbformat": 4,
  "nbformat_minor": 0,
  "metadata": {
    "colab": {
      "provenance": [],
      "authorship_tag": "ABX9TyM+dnCaWYpXKiy5hHTwFFzh",
      "include_colab_link": true
    },
    "kernelspec": {
      "name": "python3",
      "display_name": "Python 3"
    },
    "language_info": {
      "name": "python"
    }
  },
  "cells": [
    {
      "cell_type": "markdown",
      "metadata": {
        "id": "view-in-github",
        "colab_type": "text"
      },
      "source": [
        "<a href=\"https://colab.research.google.com/github/aishabadia/aisha/blob/main/S6_Task1.ipynb\" target=\"_parent\"><img src=\"https://colab.research.google.com/assets/colab-badge.svg\" alt=\"Open In Colab\"/></a>"
      ]
    },
    {
      "cell_type": "code",
      "execution_count": 21,
      "metadata": {
        "colab": {
          "base_uri": "https://localhost:8080/"
        },
        "id": "YwYtErLH5bZn",
        "outputId": "d42712c2-c3f0-4847-d678-dad5987180a6"
      },
      "outputs": [
        {
          "output_type": "stream",
          "name": "stdout",
          "text": [
            "Booked seat for Ali\n",
            "Cancelation is confirmed for Ali\n",
            "Flight 222 passengers :['Mona', 'Ahmed']\n",
            "Flight 333 has no passengers\n"
          ]
        }
      ],
      "source": [
        "class FlightBooking :\n",
        "\n",
        "  def __init__(self,flight_number,passengers=[],capacity=100):\n",
        "    self.flight_number=flight_number\n",
        "    self.passengers=passengers\n",
        "    self.capacity=capacity\n",
        "\n",
        "  def  book_seat(self,passenger_name):\n",
        "    if self.capacity>0 :\n",
        "      self.passengers.append(passenger_name)\n",
        "      print(\"Booked seat for\",passenger_name )\n",
        "    else:\n",
        "      print(\"flight is full\")\n",
        "\n",
        "  def cancel_booking(self,passenger_name):\n",
        "    found=False\n",
        "    for x in self.passengers :\n",
        "     if x==passenger_name:\n",
        "       self.passengers.remove(x)\n",
        "       print(\"Cancelation is confirmed for\",passenger_name)\n",
        "       found=True\n",
        "       break\n",
        "    if found==False:\n",
        "      print(\"Passenger not found\")\n",
        "\n",
        "  def show_passengers(self):\n",
        "    if not self.passengers:\n",
        "      print(f\"Flight {self.flight_number} has no passengers\")\n",
        "    else:\n",
        "      print(f\"Flight {self.flight_number} passengers :{self.passengers}\")\n",
        "\n",
        "\n",
        "man=FlightBooking(222,[\"Mona\",\"Ahmed\"])\n",
        "man.book_seat(\"Ali\")\n",
        "man.cancel_booking(\"Ali\")\n",
        "man.show_passengers()\n",
        "man2=FlightBooking(333)\n",
        "man2.show_passengers()\n"
      ]
    }
  ]
}