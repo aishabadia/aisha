{
  "nbformat": 4,
  "nbformat_minor": 0,
  "metadata": {
    "colab": {
      "provenance": [],
      "authorship_tag": "ABX9TyMkaKUZ+P9n27nbgpD8HwMu",
      "include_colab_link": true
    },
    "kernelspec": {
      "name": "python3",
      "display_name": "Python 3"
    },
    "language_info": {
      "name": "python"
    }
  },
  "cells": [
    {
      "cell_type": "markdown",
      "metadata": {
        "id": "view-in-github",
        "colab_type": "text"
      },
      "source": [
        "<a href=\"https://colab.research.google.com/github/aishabadia/aisha/blob/main/Task_1.ipynb\" target=\"_parent\"><img src=\"https://colab.research.google.com/assets/colab-badge.svg\" alt=\"Open In Colab\"/></a>"
      ]
    },
    {
      "cell_type": "code",
      "execution_count": null,
      "metadata": {
        "id": "nOA4MYfAR9i-",
        "colab": {
          "base_uri": "https://localhost:8080/"
        },
        "outputId": "55a89bd1-2c40-460d-e586-0922fb46cfba"
      },
      "outputs": [
        {
          "output_type": "stream",
          "name": "stdout",
          "text": [
            "Enter your name Aisha\n",
            "Enter your age 22\n",
            "Enter your hobbies Read\n",
            "What you hope to learn this year PROGRAM\n",
            "Hello, my name is Aisha\n",
            "I am 22 years old\n",
            "My hobbies include Read\n",
            "This year, I hope to learn PROGRAM\n"
          ]
        }
      ],
      "source": [
        "name=input(str(\"Enter your name \"))\n",
        "age=input(str(\"Enter your age \"))\n",
        "hobbies=input(str(\"Enter your hobbies \"))\n",
        "learn=input(str(\"What you hope to learn this year \"))\n",
        "\n",
        "\n",
        "\n",
        "\n",
        "\n",
        "print(\"Hello, my name is \"+name)\n",
        "print(\"I am \"+age+\" years old\")\n",
        "print(\"My hobbies include \"+hobbies)\n",
        "print(\"This year, I hope to learn \"+learn)\n"
      ]
    }
  ]
}