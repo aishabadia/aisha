{
  "nbformat": 4,
  "nbformat_minor": 0,
  "metadata": {
    "colab": {
      "provenance": [],
      "authorship_tag": "ABX9TyMZnPPtrZMMr4Cfk3nfxlSZ",
      "include_colab_link": true
    },
    "kernelspec": {
      "name": "python3",
      "display_name": "Python 3"
    },
    "language_info": {
      "name": "python"
    }
  },
  "cells": [
    {
      "cell_type": "markdown",
      "metadata": {
        "id": "view-in-github",
        "colab_type": "text"
      },
      "source": [
        "<a href=\"https://colab.research.google.com/github/aishabadia/aisha/blob/main/Task_2.ipynb\" target=\"_parent\"><img src=\"https://colab.research.google.com/assets/colab-badge.svg\" alt=\"Open In Colab\"/></a>"
      ]
    },
    {
      "cell_type": "code",
      "execution_count": null,
      "metadata": {
        "colab": {
          "base_uri": "https://localhost:8080/"
        },
        "outputId": "8424f673-747e-46b6-8026-bc6420b5fb5e",
        "id": "91Xdk6pWMVZ5"
      },
      "outputs": [
        {
          "output_type": "stream",
          "name": "stdout",
          "text": [
            "Welcome to the simple calculater \n",
            "Enter the First Number 10\n",
            "Enter the second Number 20\n",
            "choose an arithmetic operation (+, -, /, *)/\n",
            "10\n",
            "20\n",
            "/\n",
            "operation is divide\n",
            "result: 10 / 20=0.5\n"
          ]
        }
      ],
      "source": [
        "print(\"Welcome to the simple calculater \")\n",
        "num1=input(\"Enter the First Number \")\n",
        "num2=input(\"Enter the second Number \")\n",
        "\n",
        "operation=input(\"choose an arithmetic operation (+, -, /, *)\")\n",
        "print(num1)\n",
        "print(num2)\n",
        "print(operation)\n",
        "\n",
        "# print(type(num1))\n",
        "# print(type(num2))\n",
        "# print(type(result))\n",
        "\n",
        "if operation=='+':\n",
        "   print(\"operation is add\")\n",
        "   result=int(num1)+int(num2)\n",
        "   print(\"result \"+num1+\" + \"+num2+\"=\"+str(result))\n",
        "elif operation=='-':\n",
        "   print(\"operation is minus\")\n",
        "   result=int(num1)-int(num2)\n",
        "   print(\"result: \"+num1+\" - \"+num2+\"=\"+str(result))\n",
        "elif operation=='*':\n",
        "   print(\"operation is multiply\")\n",
        "   result=int(num1)*int(num2)\n",
        "   print(\"result: \"+num1+\" * \"+num2+\"=\"+str(result))\n",
        "elif operation=='/':\n",
        "   print(\"operation is divide\")\n",
        "   result=int(num1)/int(num2)\n",
        "   print(\"result: \"+num1+\" / \"+num2+\"=\"+str(result))\n",
        "else:\n",
        "    print(\"operation is wrong\")"
      ]
    }
  ]
}