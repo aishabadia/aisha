{
  "nbformat": 4,
  "nbformat_minor": 0,
  "metadata": {
    "colab": {
      "provenance": [],
      "authorship_tag": "ABX9TyPNaZDdjCFh0oT1CVvIt51B",
      "include_colab_link": true
    },
    "kernelspec": {
      "name": "python3",
      "display_name": "Python 3"
    },
    "language_info": {
      "name": "python"
    }
  },
  "cells": [
    {
      "cell_type": "markdown",
      "metadata": {
        "id": "view-in-github",
        "colab_type": "text"
      },
      "source": [
        "<a href=\"https://colab.research.google.com/github/aishabadia/aisha/blob/main/Task_3.ipynb\" target=\"_parent\"><img src=\"https://colab.research.google.com/assets/colab-badge.svg\" alt=\"Open In Colab\"/></a>"
      ]
    },
    {
      "cell_type": "code",
      "execution_count": 6,
      "metadata": {
        "colab": {
          "base_uri": "https://localhost:8080/"
        },
        "id": "Y57srmNdYSsH",
        "outputId": "e2433f26-d25c-455b-90b6-edded8b30e43"
      },
      "outputs": [
        {
          "output_type": "stream",
          "name": "stdout",
          "text": [
            "Enter Soething :20\n",
            "20\n",
            "20.0\n",
            "20\n",
            "Booleans in Python are either True or False\n"
          ]
        }
      ],
      "source": [
        "num=input(\"Enter Soething :\")\n",
        "\n",
        "print(int(num))\n",
        "print(float(num))\n",
        "print(str(num))\n",
        "print(\"Booleans in Python are either True or False\")"
      ]
    }
  ]
}